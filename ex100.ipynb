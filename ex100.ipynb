{
 "cells": [
  {
   "cell_type": "markdown",
   "metadata": {
    "slideshow": {
     "slide_type": "slide"
    }
   },
   "source": [
    "# PETSc training getting down to the cool kids"
   ]
  },
  {
   "cell_type": "markdown",
   "metadata": {
    "slideshow": {
     "slide_type": "slide"
    }
   },
   "source": [
    "## Quick start\n",
    "First install PETSc"
   ]
  },
  {
   "cell_type": "code",
   "execution_count": 1,
   "metadata": {
    "slideshow": {
     "slide_type": "fragment"
    }
   },
   "outputs": [
    {
     "name": "stdout",
     "output_type": "stream",
     "text": [
      "Fetching package metadata .............\n",
      "Solving package specifications: .\n",
      "\n",
      "Package plan for installation in environment /home/nbuser/anaconda3_420:\n",
      "\n",
      "The following NEW packages will be INSTALLED:\n",
      "\n",
      "    blas:        1.1-openblas            conda-forge\n",
      "    hypre:       2.11.2-1                conda-forge\n",
      "    metis:       5.1.0-3                 conda-forge\n",
      "    mpi:         1.0-mpich               conda-forge\n",
      "    mpich:       3.2.1-1                 conda-forge\n",
      "    mumps-mpi:   5.0.2-blas_openblas_0   conda-forge [blas_openblas]\n",
      "    openblas:    0.2.20-8                conda-forge\n",
      "    parmetis:    4.0.3-0                 conda-forge\n",
      "    petsc:       3.9.1-blas_openblas_0   conda-forge [blas_openblas]\n",
      "    petsc4py:    3.9.1-py35_0            conda-forge\n",
      "    ptscotch:    6.0.4-6                 conda-forge\n",
      "    readline:    7.0-ha6073c6_4                     \n",
      "    scalapack:   2.0.2-1                 conda-forge\n",
      "    scotch:      6.0.4-4                 conda-forge\n",
      "    suitesparse: 4.5.4-blas_openblas_201 conda-forge [blas_openblas]\n",
      "    tbb:         2018_20171205-0         conda-forge\n",
      "\n",
      "The following packages will be UPDATED:\n",
      "\n",
      "    conda:       4.3.31-py35_0                       --> 4.5.4-py35_0                          conda-forge\n",
      "    numpy:       1.11.3-py35_0                       --> 1.14.4-py35_blas_openblash24bf2e0_200 conda-forge [blas_openblas]\n",
      "    pycosat:     0.6.1-py35_1                        --> 0.6.3-py35_0                          conda-forge\n",
      "\n",
      "The following packages will be SUPERSEDED by a higher-priority channel:\n",
      "\n",
      "    conda-env:   2.6.0-h36134e3_1                    --> 2.6.0-0                               conda-forge\n",
      "\n",
      "conda-env-2.6. 100% |################################| Time: 0:00:00   1.35 MB/s\n",
      "metis-5.1.0-3. 100% |################################| Time: 0:00:00 723.78 kB/s\n",
      "mpi-1.0-mpich. 100% |################################| Time: 0:00:00   6.47 MB/s\n",
      "tbb-2018_20171 100% |################################| Time: 0:00:00   2.52 MB/s\n",
      "mpich-3.2.1-1. 100% |################################| Time: 0:00:00   6.18 MB/s\n",
      "openblas-0.2.2 100% |################################| Time: 0:00:02   6.13 MB/s\n",
      "blas-1.1-openb 100% |################################| Time: 0:00:00   2.01 MB/s\n",
      "hypre-2.11.2-1 100% |################################| Time: 0:00:00   6.50 MB/s\n",
      "parmetis-4.0.3 100% |################################| Time: 0:00:00   7.87 MB/s\n",
      "readline-7.0-h 100% |################################| Time: 0:00:00   9.66 MB/s\n",
      "scalapack-2.0. 100% |################################| Time: 0:00:00   6.83 MB/s\n",
      "scotch-6.0.4-4 100% |################################| Time: 0:00:00   6.17 MB/s\n",
      "ptscotch-6.0.4 100% |################################| Time: 0:00:00   8.24 MB/s\n",
      "suitesparse-4. 100% |################################| Time: 0:00:00   5.85 MB/s\n",
      "mumps-mpi-5.0. 100% |################################| Time: 0:00:00   5.27 MB/s\n",
      "numpy-1.14.4-p 100% |################################| Time: 0:00:03   2.92 MB/s\n",
      "petsc-3.9.1-bl 100% |################################| Time: 0:00:02   3.36 MB/s\n",
      "pycosat-0.6.3- 100% |################################| Time: 0:00:00   5.49 MB/s\n",
      "petsc4py-3.9.1 100% |################################| Time: 0:00:00   2.31 MB/s\n",
      "conda-4.5.4-py 100% |################################| Time: 0:00:00   6.09 MB/s\n"
     ]
    }
   ],
   "source": [
    "!conda install -c conda-forge --yes petsc4py"
   ]
  },
  {
   "cell_type": "markdown",
   "metadata": {
    "slideshow": {
     "slide_type": "slide"
    }
   },
   "source": [
    "## Laplace equation\n",
    "\n",
    "This example solves the Laplace equation,\n",
    "$$-\\Delta u = 1$$\n",
    "using CG/Jacobi. This illustrates the use of custom Python operators, solvers, and preconditioners."
   ]
  },
  {
   "cell_type": "markdown",
   "metadata": {
    "slideshow": {
     "slide_type": "subslide"
    }
   },
   "source": [
    "We start by importing the Python PETSc module and initialising. We are also importing example100 that has some utility stuff."
   ]
  },
  {
   "cell_type": "code",
   "execution_count": 5,
   "metadata": {
    "slideshow": {
     "slide_type": "fragment"
    }
   },
   "outputs": [],
   "source": [
    "import petsc4py\n",
    "from petsc4py import PETSc\n",
    "import example100\n",
    "\n",
    "petsc4py.init()\n",
    "\n",
    "OptDB = PETSc.Options()\n",
    "N     = OptDB.getInt('N', 100)\n",
    "draw  = OptDB.getBool('draw', False)"
   ]
  },
  {
   "cell_type": "markdown",
   "metadata": {
    "slideshow": {
     "slide_type": "slide"
    }
   },
   "source": [
    "# Setting up the sparse matrix"
   ]
  },
  {
   "cell_type": "code",
   "execution_count": 6,
   "metadata": {
    "slideshow": {
     "slide_type": "slide"
    }
   },
   "outputs": [
    {
     "data": {
      "text/plain": [
       "<petsc4py.PETSc.Mat at 0x7ff938ebaa40>"
      ]
     },
     "execution_count": 6,
     "metadata": {},
     "output_type": "execute_result"
    }
   ],
   "source": [
    "A = PETSc.Mat()\n",
    "A.create(comm=PETSc.COMM_WORLD)\n",
    "A.setSizes([N,N])\n",
    "A.setType(PETSc.Mat.Type.PYTHON)\n",
    "A.setPythonContext(example100.Laplace1D())\n",
    "A.setUp()"
   ]
  },
  {
   "cell_type": "code",
   "execution_count": 4,
   "metadata": {
    "slideshow": {
     "slide_type": "slide"
    }
   },
   "outputs": [
    {
     "name": "stdout",
     "output_type": "stream",
     "text": [
      "6.700822229941938e-13\n"
     ]
    }
   ],
   "source": [
    "x, b = A.getVecs()\n",
    "b.set(1)\n",
    "\n",
    "ksp = PETSc.KSP()\n",
    "ksp.create(comm=PETSc.COMM_WORLD)\n",
    "ksp.setType(PETSc.KSP.Type.PYTHON)\n",
    "ksp.setPythonContext(example100.ConjGrad())\n",
    "\n",
    "pc = ksp.getPC()\n",
    "pc.setType(PETSc.PC.Type.PYTHON)\n",
    "pc.setPythonContext(example100.Jacobi())\n",
    "\n",
    "ksp.setOperators(A, A)\n",
    "ksp.setFromOptions()\n",
    "ksp.solve(b, x)\n",
    "\n",
    "r = b.duplicate()\n",
    "A.mult(x, r)\n",
    "r.aypx(-1, b)\n",
    "rnorm = r.norm()\n",
    "print(rnorm)\n",
    "PETSc.Sys.Print('error norm = %g' % rnorm, comm=PETSc.COMM_WORLD)\n",
    "\n",
    "if draw:\n",
    "    viewer = PETSc.Viewer.DRAW(x.getComm())\n",
    "    x.view(viewer)\n",
    "    PETSc.Sys.sleep(2)"
   ]
  },
  {
   "cell_type": "code",
   "execution_count": null,
   "metadata": {},
   "outputs": [],
   "source": []
  }
 ],
 "metadata": {
  "celltoolbar": "Slideshow",
  "kernelspec": {
   "display_name": "Python 3",
   "language": "python",
   "name": "python3"
  },
  "language_info": {
   "codemirror_mode": {
    "name": "ipython",
    "version": 3
   },
   "file_extension": ".py",
   "mimetype": "text/x-python",
   "name": "python",
   "nbconvert_exporter": "python",
   "pygments_lexer": "ipython3",
   "version": "3.5.4"
  }
 },
 "nbformat": 4,
 "nbformat_minor": 2
}
