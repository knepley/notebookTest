{
 "cells": [
  {
   "cell_type": "markdown",
   "metadata": {},
   "source": [
    "# PETSc training getting down to the cool kids"
   ]
  },
  {
   "cell_type": "markdown",
   "metadata": {},
   "source": [
    "## Quick start\n",
    "First install PETSc"
   ]
  },
  {
   "cell_type": "code",
   "execution_count": 1,
   "metadata": {},
   "outputs": [
    {
     "name": "stdout",
     "output_type": "stream",
     "text": [
      "Solving environment: done\n",
      "\n",
      "# All requested packages already installed.\n",
      "\n"
     ]
    }
   ],
   "source": [
    "!conda install -c conda-forge petsc4py"
   ]
  },
  {
   "cell_type": "markdown",
   "metadata": {},
   "source": [
    "## Laplace equation\n",
    "\n",
    "This example solves the Laplace equation,\n",
    "$$-\\Delta u = 1$$\n",
    "using CG/Jacobi. This illustrates the use of custom Python operators, solvers, and preconditioners."
   ]
  },
  {
   "cell_type": "markdown",
   "metadata": {},
   "source": [
    "We start by importing the Python PETSc module and initialising. We are also importing example100 that has some utility stuff."
   ]
  },
  {
   "cell_type": "code",
   "execution_count": 3,
   "metadata": {},
   "outputs": [],
   "source": [
    "import petsc4py\n",
    "from petsc4py import PETSc\n",
    "import example100\n",
    "\n",
    "petsc4py.init()\n",
    "\n",
    "OptDB = PETSc.Options()\n",
    "N     = OptDB.getInt('N', 100)\n",
    "draw  = OptDB.getBool('draw', False)"
   ]
  },
  {
   "cell_type": "markdown",
   "metadata": {},
   "source": [
    "# Setting up the sparse matrix"
   ]
  },
  {
   "cell_type": "code",
   "execution_count": 4,
   "metadata": {},
   "outputs": [
    {
     "data": {
      "text/plain": [
       "<petsc4py.PETSc.Mat at 0x1115fc360>"
      ]
     },
     "execution_count": 4,
     "metadata": {},
     "output_type": "execute_result"
    }
   ],
   "source": [
    "A = PETSc.Mat()\n",
    "A.create(comm=PETSc.COMM_WORLD)\n",
    "A.setSizes([N,N])\n",
    "A.setType(PETSc.Mat.Type.PYTHON)\n",
    "A.setPythonContext(example100.Laplace1D())\n",
    "A.setUp()"
   ]
  },
  {
   "cell_type": "code",
   "execution_count": 5,
   "metadata": {},
   "outputs": [
    {
     "name": "stdout",
     "output_type": "stream",
     "text": [
      "1.1044800808975179e-12\n"
     ]
    }
   ],
   "source": [
    "x, b = A.getVecs()\n",
    "b.set(1)\n",
    "\n",
    "ksp = PETSc.KSP()\n",
    "ksp.create(comm=PETSc.COMM_WORLD)\n",
    "ksp.setType(PETSc.KSP.Type.PYTHON)\n",
    "ksp.setPythonContext(example100.ConjGrad())\n",
    "\n",
    "pc = ksp.getPC()\n",
    "pc.setType(PETSc.PC.Type.PYTHON)\n",
    "pc.setPythonContext(example100.Jacobi())\n",
    "\n",
    "ksp.setOperators(A, A)\n",
    "ksp.setFromOptions()\n",
    "ksp.solve(b, x)\n",
    "\n",
    "r = b.duplicate()\n",
    "A.mult(x, r)\n",
    "r.aypx(-1, b)\n",
    "rnorm = r.norm()\n",
    "print(rnorm)\n",
    "PETSc.Sys.Print('error norm = %g' % rnorm, comm=PETSc.COMM_WORLD)\n",
    "\n",
    "if draw:\n",
    "    viewer = PETSc.Viewer.DRAW(x.getComm())\n",
    "    x.view(viewer)\n",
    "    PETSc.Sys.sleep(2)"
   ]
  },
  {
   "cell_type": "code",
   "execution_count": null,
   "metadata": {},
   "outputs": [],
   "source": []
  }
 ],
 "metadata": {
  "kernelspec": {
   "display_name": "Python 3",
   "language": "python",
   "name": "python3"
  },
  "language_info": {
   "codemirror_mode": {
    "name": "ipython",
    "version": 3
   },
   "file_extension": ".py",
   "mimetype": "text/x-python",
   "name": "python",
   "nbconvert_exporter": "python",
   "pygments_lexer": "ipython3",
   "version": "3.6.5"
  }
 },
 "nbformat": 4,
 "nbformat_minor": 2
}
